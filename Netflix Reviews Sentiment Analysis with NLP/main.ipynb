{
 "cells": [
  {
   "cell_type": "markdown",
   "metadata": {},
   "source": [
    "# Unsupervised Machine Learning Project using Natural Language Processing (NLP)"
   ]
  },
  {
   "cell_type": "markdown",
   "metadata": {},
   "source": [
    "# Topic : Netflix Reviews\n",
    "##### Creator : Farhan Wily B.Sc."
   ]
  },
  {
   "cell_type": "markdown",
   "metadata": {},
   "source": [
    "Dataset Link from Kaggle:\n",
    "- https://www.kaggle.com/code/subhadipde2000/netflix-review-sentiment-analysis-with-gru-lstm"
   ]
  },
  {
   "cell_type": "markdown",
   "metadata": {},
   "source": [
    "## 1. Data Analysis"
   ]
  },
  {
   "cell_type": "code",
   "execution_count": 46,
   "metadata": {},
   "outputs": [],
   "source": [
    "import pandas as pd\n",
    "import numpy as np\n",
    "import matplotlib.pyplot as plt"
   ]
  },
  {
   "cell_type": "markdown",
   "metadata": {},
   "source": [
    "### a. Data Preprocessing"
   ]
  },
  {
   "cell_type": "markdown",
   "metadata": {},
   "source": [
    "#### a1. Read Dataset"
   ]
  },
  {
   "cell_type": "code",
   "execution_count": 9,
   "metadata": {},
   "outputs": [],
   "source": [
    "# Read the dataset\n",
    "df = pd.read_csv('F:/Project/Fullstack/Machine Learning/Netflix Review/dataset/netflix_reviews.csv')"
   ]
  },
  {
   "cell_type": "code",
   "execution_count": 10,
   "metadata": {},
   "outputs": [
    {
     "data": {
      "text/html": [
       "<div>\n",
       "<style scoped>\n",
       "    .dataframe tbody tr th:only-of-type {\n",
       "        vertical-align: middle;\n",
       "    }\n",
       "\n",
       "    .dataframe tbody tr th {\n",
       "        vertical-align: top;\n",
       "    }\n",
       "\n",
       "    .dataframe thead th {\n",
       "        text-align: right;\n",
       "    }\n",
       "</style>\n",
       "<table border=\"1\" class=\"dataframe\">\n",
       "  <thead>\n",
       "    <tr style=\"text-align: right;\">\n",
       "      <th></th>\n",
       "      <th>reviewId</th>\n",
       "      <th>userName</th>\n",
       "      <th>content</th>\n",
       "      <th>score</th>\n",
       "      <th>thumbsUpCount</th>\n",
       "      <th>reviewCreatedVersion</th>\n",
       "      <th>at</th>\n",
       "      <th>appVersion</th>\n",
       "    </tr>\n",
       "  </thead>\n",
       "  <tbody>\n",
       "    <tr>\n",
       "      <th>0</th>\n",
       "      <td>7b2a264c-7bb5-4729-b3d2-2168f8a7855e</td>\n",
       "      <td>Kyan Ball</td>\n",
       "      <td>I pay $18/month for an app that's super glitch...</td>\n",
       "      <td>2</td>\n",
       "      <td>1</td>\n",
       "      <td>8.122.1 build 9 50736</td>\n",
       "      <td>2024-07-10 15:20:28</td>\n",
       "      <td>8.122.1 build 9 50736</td>\n",
       "    </tr>\n",
       "    <tr>\n",
       "      <th>1</th>\n",
       "      <td>10faea27-b33d-40bb-b669-cf126438d525</td>\n",
       "      <td>Shraddha Pawar</td>\n",
       "      <td>Netflix plzz this kdrama dubbed in hindi . Hap...</td>\n",
       "      <td>5</td>\n",
       "      <td>2</td>\n",
       "      <td>8.122.1 build 9 50736</td>\n",
       "      <td>2024-07-10 15:03:37</td>\n",
       "      <td>8.122.1 build 9 50736</td>\n",
       "    </tr>\n",
       "    <tr>\n",
       "      <th>2</th>\n",
       "      <td>61a10e0d-e868-4d87-aa30-f41d30285a3f</td>\n",
       "      <td>badr mosa</td>\n",
       "      <td>Terrible app I can't watch anything because of...</td>\n",
       "      <td>1</td>\n",
       "      <td>0</td>\n",
       "      <td>8.121.2 build 22 50727</td>\n",
       "      <td>2024-07-08 15:41:17</td>\n",
       "      <td>8.121.2 build 22 50727</td>\n",
       "    </tr>\n",
       "    <tr>\n",
       "      <th>3</th>\n",
       "      <td>1a7ce341-afc6-46da-9d08-793582e8ed3c</td>\n",
       "      <td>Ivan Berry</td>\n",
       "      <td>I love 💕💕 to download it,,😭</td>\n",
       "      <td>5</td>\n",
       "      <td>0</td>\n",
       "      <td>NaN</td>\n",
       "      <td>2024-07-07 17:47:19</td>\n",
       "      <td>NaN</td>\n",
       "    </tr>\n",
       "    <tr>\n",
       "      <th>4</th>\n",
       "      <td>1bd445c3-7f36-4717-810a-63c5533207d0</td>\n",
       "      <td>Ryan Murray</td>\n",
       "      <td>Exceptional</td>\n",
       "      <td>5</td>\n",
       "      <td>1</td>\n",
       "      <td>8.121.2 build 22 50727</td>\n",
       "      <td>2024-07-07 12:31:53</td>\n",
       "      <td>8.121.2 build 22 50727</td>\n",
       "    </tr>\n",
       "    <tr>\n",
       "      <th>5</th>\n",
       "      <td>59f306cd-852b-4459-b24f-3e4436df8465</td>\n",
       "      <td>Shannon Bonacci</td>\n",
       "      <td>Can't even make it through a full episode of a...</td>\n",
       "      <td>2</td>\n",
       "      <td>2</td>\n",
       "      <td>8.121.2 build 22 50727</td>\n",
       "      <td>2024-07-07 05:21:45</td>\n",
       "      <td>8.121.2 build 22 50727</td>\n",
       "    </tr>\n",
       "    <tr>\n",
       "      <th>6</th>\n",
       "      <td>f21a1d8a-2b4c-4385-8aff-ca317a00e032</td>\n",
       "      <td>Katie Hutchinson</td>\n",
       "      <td>Great</td>\n",
       "      <td>5</td>\n",
       "      <td>0</td>\n",
       "      <td>8.26.0 build 11 40221</td>\n",
       "      <td>2024-07-06 19:47:34</td>\n",
       "      <td>8.26.0 build 11 40221</td>\n",
       "    </tr>\n",
       "    <tr>\n",
       "      <th>7</th>\n",
       "      <td>bdd267b4-4231-4a5d-b369-3ac9e5082fc5</td>\n",
       "      <td>Mirza Irfan</td>\n",
       "      <td>Your device is not part of the Netflix Househo...</td>\n",
       "      <td>1</td>\n",
       "      <td>0</td>\n",
       "      <td>8.120.0 build 10 50712</td>\n",
       "      <td>2024-07-05 17:09:39</td>\n",
       "      <td>8.120.0 build 10 50712</td>\n",
       "    </tr>\n",
       "    <tr>\n",
       "      <th>8</th>\n",
       "      <td>ccbfabb0-606f-4596-b269-9e805ca4d89f</td>\n",
       "      <td>Mide Noel</td>\n",
       "      <td>I've been trying to pay for a month since I cr...</td>\n",
       "      <td>1</td>\n",
       "      <td>0</td>\n",
       "      <td>8.120.0 build 10 50712</td>\n",
       "      <td>2024-07-05 12:16:42</td>\n",
       "      <td>8.120.0 build 10 50712</td>\n",
       "    </tr>\n",
       "    <tr>\n",
       "      <th>9</th>\n",
       "      <td>ee8ce33a-bbd1-4ee0-83f7-7d6d78f221ec</td>\n",
       "      <td>Mike Paul</td>\n",
       "      <td>Kayla Kwadau</td>\n",
       "      <td>5</td>\n",
       "      <td>0</td>\n",
       "      <td>8.99.1 build 8 50590</td>\n",
       "      <td>2024-07-05 10:02:48</td>\n",
       "      <td>8.99.1 build 8 50590</td>\n",
       "    </tr>\n",
       "  </tbody>\n",
       "</table>\n",
       "</div>"
      ],
      "text/plain": [
       "                               reviewId          userName  \\\n",
       "0  7b2a264c-7bb5-4729-b3d2-2168f8a7855e         Kyan Ball   \n",
       "1  10faea27-b33d-40bb-b669-cf126438d525    Shraddha Pawar   \n",
       "2  61a10e0d-e868-4d87-aa30-f41d30285a3f         badr mosa   \n",
       "3  1a7ce341-afc6-46da-9d08-793582e8ed3c        Ivan Berry   \n",
       "4  1bd445c3-7f36-4717-810a-63c5533207d0       Ryan Murray   \n",
       "5  59f306cd-852b-4459-b24f-3e4436df8465   Shannon Bonacci   \n",
       "6  f21a1d8a-2b4c-4385-8aff-ca317a00e032  Katie Hutchinson   \n",
       "7  bdd267b4-4231-4a5d-b369-3ac9e5082fc5       Mirza Irfan   \n",
       "8  ccbfabb0-606f-4596-b269-9e805ca4d89f         Mide Noel   \n",
       "9  ee8ce33a-bbd1-4ee0-83f7-7d6d78f221ec         Mike Paul   \n",
       "\n",
       "                                             content  score  thumbsUpCount  \\\n",
       "0  I pay $18/month for an app that's super glitch...      2              1   \n",
       "1  Netflix plzz this kdrama dubbed in hindi . Hap...      5              2   \n",
       "2  Terrible app I can't watch anything because of...      1              0   \n",
       "3                        I love 💕💕 to download it,,😭      5              0   \n",
       "4                                        Exceptional      5              1   \n",
       "5  Can't even make it through a full episode of a...      2              2   \n",
       "6                                              Great      5              0   \n",
       "7  Your device is not part of the Netflix Househo...      1              0   \n",
       "8  I've been trying to pay for a month since I cr...      1              0   \n",
       "9                                       Kayla Kwadau      5              0   \n",
       "\n",
       "     reviewCreatedVersion                   at              appVersion  \n",
       "0   8.122.1 build 9 50736  2024-07-10 15:20:28   8.122.1 build 9 50736  \n",
       "1   8.122.1 build 9 50736  2024-07-10 15:03:37   8.122.1 build 9 50736  \n",
       "2  8.121.2 build 22 50727  2024-07-08 15:41:17  8.121.2 build 22 50727  \n",
       "3                     NaN  2024-07-07 17:47:19                     NaN  \n",
       "4  8.121.2 build 22 50727  2024-07-07 12:31:53  8.121.2 build 22 50727  \n",
       "5  8.121.2 build 22 50727  2024-07-07 05:21:45  8.121.2 build 22 50727  \n",
       "6   8.26.0 build 11 40221  2024-07-06 19:47:34   8.26.0 build 11 40221  \n",
       "7  8.120.0 build 10 50712  2024-07-05 17:09:39  8.120.0 build 10 50712  \n",
       "8  8.120.0 build 10 50712  2024-07-05 12:16:42  8.120.0 build 10 50712  \n",
       "9    8.99.1 build 8 50590  2024-07-05 10:02:48    8.99.1 build 8 50590  "
      ]
     },
     "execution_count": 10,
     "metadata": {},
     "output_type": "execute_result"
    }
   ],
   "source": [
    "# Show the dataset\n",
    "df.head(10)"
   ]
  },
  {
   "cell_type": "code",
   "execution_count": 11,
   "metadata": {},
   "outputs": [
    {
     "name": "stdout",
     "output_type": "stream",
     "text": [
      "<class 'pandas.core.frame.DataFrame'>\n",
      "RangeIndex: 113622 entries, 0 to 113621\n",
      "Data columns (total 8 columns):\n",
      " #   Column                Non-Null Count   Dtype \n",
      "---  ------                --------------   ----- \n",
      " 0   reviewId              113622 non-null  object\n",
      " 1   userName              113620 non-null  object\n",
      " 2   content               113620 non-null  object\n",
      " 3   score                 113622 non-null  int64 \n",
      " 4   thumbsUpCount         113622 non-null  int64 \n",
      " 5   reviewCreatedVersion  96983 non-null   object\n",
      " 6   at                    113622 non-null  object\n",
      " 7   appVersion            96983 non-null   object\n",
      "dtypes: int64(2), object(6)\n",
      "memory usage: 6.9+ MB\n"
     ]
    }
   ],
   "source": [
    "df.info()"
   ]
  },
  {
   "cell_type": "markdown",
   "metadata": {},
   "source": [
    "#### a2. Feature Identification"
   ]
  },
  {
   "cell_type": "code",
   "execution_count": 45,
   "metadata": {},
   "outputs": [
    {
     "name": "stdout",
     "output_type": "stream",
     "text": [
      "Features : \n",
      "\n",
      "reviewId\n",
      "userName\n",
      "content\n",
      "score\n",
      "thumbsUpCount\n",
      "reviewCreatedVersion\n",
      "at\n",
      "appVersion\n",
      "\n",
      "List of features: ['reviewId', 'userName', 'content', 'score', 'thumbsUpCount', 'reviewCreatedVersion', 'at', 'appVersion']\n"
     ]
    }
   ],
   "source": [
    "# Initialize list to store features\n",
    "feature_show = []\n",
    "\n",
    "print(\"Features : \\n\")\n",
    "# Loop through DataFrame columns\n",
    "for i in df.columns:\n",
    "    feature_show.append(i)\n",
    "    print(i)\n",
    "\n",
    "# Print feature list for verification\n",
    "print(\"\\nList of features:\", feature_show)"
   ]
  },
  {
   "cell_type": "markdown",
   "metadata": {},
   "source": [
    "#### a3. NaN and Null Values Check"
   ]
  },
  {
   "cell_type": "code",
   "execution_count": 62,
   "metadata": {},
   "outputs": [
    {
     "name": "stdout",
     "output_type": "stream",
     "text": [
      "NaN Values:\n",
      " reviewId                    0\n",
      "userName                    2\n",
      "content                     2\n",
      "score                       0\n",
      "thumbsUpCount               0\n",
      "reviewCreatedVersion    16639\n",
      "at                          0\n",
      "appVersion              16639\n",
      "dtype: int64 \n",
      "\n",
      "Null Values:\n",
      " reviewId                    0\n",
      "userName                    2\n",
      "content                     2\n",
      "score                       0\n",
      "thumbsUpCount               0\n",
      "reviewCreatedVersion    16639\n",
      "at                          0\n",
      "appVersion              16639\n",
      "dtype: int64 \n",
      "\n"
     ]
    }
   ],
   "source": [
    "# NaN and Null values\n",
    "check_nan = df.isna().sum()\n",
    "check_null = df.isnull().sum()\n",
    "\n",
    "print('NaN Values:\\n', check_nan, '\\n')\n",
    "print('Null Values:\\n', check_null, '\\n')"
   ]
  },
  {
   "cell_type": "code",
   "execution_count": null,
   "metadata": {},
   "outputs": [],
   "source": []
  }
 ],
 "metadata": {
  "kernelspec": {
   "display_name": "Python 3",
   "language": "python",
   "name": "python3"
  },
  "language_info": {
   "codemirror_mode": {
    "name": "ipython",
    "version": 3
   },
   "file_extension": ".py",
   "mimetype": "text/x-python",
   "name": "python",
   "nbconvert_exporter": "python",
   "pygments_lexer": "ipython3",
   "version": "3.11.5"
  }
 },
 "nbformat": 4,
 "nbformat_minor": 2
}
